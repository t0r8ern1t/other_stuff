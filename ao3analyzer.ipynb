{
  "cells": [
    {
      "cell_type": "markdown",
      "metadata": {
        "id": "view-in-github",
        "colab_type": "text"
      },
      "source": [
        "<a href=\"https://colab.research.google.com/github/t0r8ern1t/other_stuff/blob/main/ao3analyzer.ipynb\" target=\"_parent\"><img src=\"https://colab.research.google.com/assets/colab-badge.svg\" alt=\"Open In Colab\"/></a>"
      ]
    },
    {
      "cell_type": "code",
      "execution_count": null,
      "metadata": {
        "id": "wPgtHzhTN1pq"
      },
      "outputs": [],
      "source": [
        "pip install ao3_api"
      ]
    },
    {
      "cell_type": "code",
      "execution_count": null,
      "metadata": {
        "id": "K3LUrA6_N_R5"
      },
      "outputs": [],
      "source": [
        "import AO3\n",
        "import time"
      ]
    },
    {
      "cell_type": "code",
      "execution_count": null,
      "metadata": {
        "id": "p44FF4ScODBz"
      },
      "outputs": [],
      "source": [
        "login = input(\"enter username: \")\n",
        "password = input(\"enter password: \")"
      ]
    },
    {
      "cell_type": "code",
      "execution_count": null,
      "metadata": {
        "id": "NkOxX4hWOFqV"
      },
      "outputs": [],
      "source": [
        "session = AO3.Session(login, password)\n",
        "page = 0\n",
        "total_works = 0\n",
        "total_words = 0\n",
        "in_date = True\n",
        "curr_year = 2024\n",
        "categories = {\"M/M\": 0, \"F/F\": 0, \"F/M\": 0, \"Gen\": 0, \"Multi\": 0, \"Other\": 0, \"No category\": 0}\n",
        "rating = {\"General Audiences\": 0, \"Teen And Up Audiences\": 0, \"Mature\": 0, \"Explicit\": 0, \"Not Rated\": 0}\n",
        "fandoms = {}\n",
        "ships = {}\n",
        "characters = {}\n",
        "tags = {}"
      ]
    },
    {
      "cell_type": "code",
      "execution_count": null,
      "metadata": {
        "id": "IOylD2xuSj-E"
      },
      "outputs": [],
      "source": [
        "def parce_work(work):\n",
        "  global total_words\n",
        "  global total_works\n",
        "  md = work.metadata\n",
        "  total_works += 1\n",
        "  total_words += md['words']\n",
        "  rating[md['rating']] += 1\n",
        "  for category in md['categories']:\n",
        "      categories[category] = 1\n",
        "  for fandom in md['fandoms']:\n",
        "    if fandom not in fandoms.keys():\n",
        "      fandoms[fandom] = 1\n",
        "    else:\n",
        "      fandoms[fandom] += 1\n",
        "  for ship in md['relationships']:\n",
        "    if ship not in ships.keys():\n",
        "      ships[ship] = 1\n",
        "    else:\n",
        "      ships[ship] += 1\n",
        "  for char in md['characters']:\n",
        "    if char not in characters.keys():\n",
        "      characters[char] = 1\n",
        "    else:\n",
        "      characters[char] += 1\n",
        "  for tag in md['tags']:\n",
        "    if tag not in tags.keys():\n",
        "      tags[tag] = 1\n",
        "    else:\n",
        "      tags[tag] += 1\n",
        "  time.sleep(0.2)\n"
      ]
    },
    {
      "cell_type": "code",
      "execution_count": null,
      "metadata": {
        "id": "-BtxMrEXTSZl"
      },
      "outputs": [],
      "source": [
        "page = 0\n",
        "while in_date:\n",
        "  print(page)\n",
        "  session._history = None\n",
        "  history = session.get_history(start_page=page, max_pages=page+1)\n",
        "  page += 2\n",
        "  for work in history:\n",
        "    if work[2].year != curr_year:\n",
        "      in_date = False\n",
        "    try:\n",
        "      parce_work(AO3.Work(work[0].id, session=session, load_chapters=False))\n",
        "    except:\n",
        "      print(f'work {work[0].title} unavaliable')\n",
        "      pass\n",
        "  time.sleep(6)"
      ]
    },
    {
      "cell_type": "code",
      "source": [
        "categories_list = sorted(categories.items(), key=lambda x:x[1], reverse=True)\n",
        "rating_list = sorted(rating.items(), key=lambda x:x[1], reverse=True)\n",
        "fandoms_list = sorted(fandoms.items(), key=lambda x:x[1], reverse=True)\n",
        "ships_list = sorted(ships.items(), key=lambda x:x[1], reverse=True)\n",
        "characters_list = sorted(characters.items(), key=lambda x:x[1], reverse=True)\n",
        "tags_list = sorted(tags.items(), key=lambda x:x[1], reverse=True)"
      ],
      "metadata": {
        "id": "2L9xr2nrfiV0"
      },
      "execution_count": null,
      "outputs": []
    },
    {
      "cell_type": "code",
      "source": [
        "def print_top(items_list):\n",
        "  for i in range(len(items_list)):\n",
        "    print(f'{i}. {items_list[i][0]} - {items_list[i][1]}')\n",
        "  print()"
      ],
      "metadata": {
        "id": "-__GnsjDQ1xD"
      },
      "execution_count": null,
      "outputs": []
    },
    {
      "cell_type": "code",
      "execution_count": null,
      "metadata": {
        "id": "sbNS1XHfWWTH"
      },
      "outputs": [],
      "source": [
        "print(f'total words {total_words}')\n",
        "print(f'total works {total_works}\\n')\n",
        "\n",
        "print('categories top:')\n",
        "print_top(categories_list)\n",
        "\n",
        "print('ratings top:')\n",
        "print_top(rating_list)\n",
        "\n",
        "print('fandoms top:')\n",
        "print_top(fandoms_list[:5])\n",
        "\n",
        "print('ships top:')\n",
        "print_top(ships_list[:5])\n",
        "\n",
        "print('characters top:')\n",
        "print_top(characters_list[:5])\n",
        "\n",
        "print('tags top:')\n",
        "print_top(tags_list[:5])"
      ]
    }
  ],
  "metadata": {
    "colab": {
      "provenance": [],
      "authorship_tag": "ABX9TyP9nKvLNhcDvJ8HQX3VL5Di",
      "include_colab_link": true
    },
    "kernelspec": {
      "display_name": "Python 3",
      "name": "python3"
    },
    "language_info": {
      "name": "python"
    }
  },
  "nbformat": 4,
  "nbformat_minor": 0
}