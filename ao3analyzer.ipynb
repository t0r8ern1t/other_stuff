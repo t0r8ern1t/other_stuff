{
  "cells": [
    {
      "cell_type": "markdown",
      "metadata": {
        "id": "view-in-github",
        "colab_type": "text"
      },
      "source": [
        "<a href=\"https://colab.research.google.com/github/t0r8ern1t/other_stuff/blob/main/ao3analyzer.ipynb\" target=\"_parent\"><img src=\"https://colab.research.google.com/assets/colab-badge.svg\" alt=\"Open In Colab\"/></a>"
      ]
    },
    {
      "cell_type": "code",
      "execution_count": 2,
      "metadata": {
        "colab": {
          "base_uri": "https://localhost:8080/"
        },
        "id": "wPgtHzhTN1pq",
        "outputId": "dd3dff45-95ee-4b45-c762-d65470625d57"
      },
      "outputs": [
        {
          "output_type": "stream",
          "name": "stdout",
          "text": [
            "Collecting ao3_api\n",
            "  Downloading ao3_api-2.3.0-py3-none-any.whl (41 kB)\n",
            "\u001b[2K     \u001b[90m━━━━━━━━━━━━━━━━━━━━━━━━━━━━━━━━━━━━━━━━\u001b[0m \u001b[32m41.5/41.5 kB\u001b[0m \u001b[31m1.2 MB/s\u001b[0m eta \u001b[36m0:00:00\u001b[0m\n",
            "\u001b[?25hRequirement already satisfied: BeautifulSoup4 in /usr/local/lib/python3.10/dist-packages (from ao3_api) (4.12.3)\n",
            "Requirement already satisfied: lxml in /usr/local/lib/python3.10/dist-packages (from ao3_api) (4.9.4)\n",
            "Requirement already satisfied: requests in /usr/local/lib/python3.10/dist-packages (from ao3_api) (2.31.0)\n",
            "Requirement already satisfied: soupsieve>1.2 in /usr/local/lib/python3.10/dist-packages (from BeautifulSoup4->ao3_api) (2.5)\n",
            "Requirement already satisfied: charset-normalizer<4,>=2 in /usr/local/lib/python3.10/dist-packages (from requests->ao3_api) (3.3.2)\n",
            "Requirement already satisfied: idna<4,>=2.5 in /usr/local/lib/python3.10/dist-packages (from requests->ao3_api) (3.6)\n",
            "Requirement already satisfied: urllib3<3,>=1.21.1 in /usr/local/lib/python3.10/dist-packages (from requests->ao3_api) (2.0.7)\n",
            "Requirement already satisfied: certifi>=2017.4.17 in /usr/local/lib/python3.10/dist-packages (from requests->ao3_api) (2024.2.2)\n",
            "Installing collected packages: ao3_api\n",
            "Successfully installed ao3_api-2.3.0\n"
          ]
        }
      ],
      "source": [
        "pip install ao3_api"
      ]
    },
    {
      "cell_type": "code",
      "execution_count": 3,
      "metadata": {
        "id": "K3LUrA6_N_R5"
      },
      "outputs": [],
      "source": [
        "import AO3\n",
        "import time"
      ]
    },
    {
      "cell_type": "code",
      "execution_count": null,
      "metadata": {
        "colab": {
          "base_uri": "https://localhost:8080/"
        },
        "id": "p44FF4ScODBz",
        "outputId": "a8dc4454-83e2-410a-f738-2bb69db87cdc"
      },
      "outputs": [
        {
          "name": "stdout",
          "output_type": "stream",
          "text": [
            "torbernit\n",
            "oiukjh34\n"
          ]
        }
      ],
      "source": [
        "login = input(\"enter username: \")\n",
        "password = input(\"enter password: \")"
      ]
    },
    {
      "cell_type": "code",
      "execution_count": 25,
      "metadata": {
        "id": "NkOxX4hWOFqV"
      },
      "outputs": [],
      "source": [
        "session = AO3.Session(login, password)\n",
        "page = 0\n",
        "total_works = 0\n",
        "total_words = 0\n",
        "in_date = True\n",
        "curr_year = 2024\n",
        "categories = {\"M/M\": 0, \"F/F\": 0, \"F/M\": 0, \"Gen\": 0, \"Multi\": 0, \"Other\": 0, \"No category\": 0}\n",
        "rating = {\"General Audiences\": 0, \"Teen And Up Audiences\": 0, \"Mature\": 0, \"Explicit\": 0, \"Not Rated\": 0}\n",
        "fandoms = {}\n",
        "ships = {}\n",
        "characters = {}\n",
        "tags = {}"
      ]
    },
    {
      "cell_type": "code",
      "execution_count": 26,
      "metadata": {
        "id": "IOylD2xuSj-E"
      },
      "outputs": [],
      "source": [
        "def parce_work(work):\n",
        "  global total_words\n",
        "  global total_works\n",
        "  md = work.metadata\n",
        "  total_works += 1\n",
        "  total_words += md['words']\n",
        "  rating[md['rating']] += 1\n",
        "  for category in md['categories']:\n",
        "      categories[category] = 1\n",
        "  for fandom in md['fandoms']:\n",
        "    if fandom not in fandoms.keys():\n",
        "      fandoms[fandom] = 1\n",
        "    else:\n",
        "      fandoms[fandom] += 1\n",
        "  for ship in md['relationships']:\n",
        "    if ship not in ships.keys():\n",
        "      ships[ship] = 1\n",
        "    else:\n",
        "      ships[ship] += 1\n",
        "  for char in md['characters']:\n",
        "    if char not in characters.keys():\n",
        "      characters[char] = 1\n",
        "    else:\n",
        "      characters[char] += 1\n",
        "  for tag in md['tags']:\n",
        "    if tag not in tags.keys():\n",
        "      tags[tag] = 1\n",
        "    else:\n",
        "      tags[tag] += 1\n",
        "  time.sleep(0.1)\n"
      ]
    },
    {
      "cell_type": "code",
      "execution_count": 27,
      "metadata": {
        "colab": {
          "base_uri": "https://localhost:8080/",
          "height": 751
        },
        "id": "-BtxMrEXTSZl",
        "outputId": "ac40f3a1-4fbf-4d07-c099-a39591b50bbd"
      },
      "outputs": [
        {
          "output_type": "stream",
          "name": "stdout",
          "text": [
            "0\n",
            "1\n"
          ]
        },
        {
          "output_type": "stream",
          "name": "stderr",
          "text": [
            "/usr/local/lib/python3.10/dist-packages/AO3/works.py:940: UserWarning: This work is very big and might take a very long time to load\n",
            "  warnings.warn(\"This work is very big and might take a very long time to load\")\n"
          ]
        },
        {
          "output_type": "stream",
          "name": "stdout",
          "text": [
            "2\n",
            "3\n",
            "4\n",
            "5\n",
            "work A Dark Night in Ba Sing Se unavaliable\n",
            "work Kindling unavaliable\n",
            "work Towards the Sun unavaliable\n",
            "work Rebellion unavaliable\n",
            "work Mission unavaliable\n",
            "work The Sweetheart Swindle unavaliable\n",
            "work where there's smoke unavaliable\n",
            "work and I will shape my flame unavaliable\n",
            "work Camaraderie unavaliable\n",
            "6\n"
          ]
        },
        {
          "output_type": "error",
          "ename": "KeyboardInterrupt",
          "evalue": "",
          "traceback": [
            "\u001b[0;31m---------------------------------------------------------------------------\u001b[0m",
            "\u001b[0;31mHTTPError\u001b[0m                                 Traceback (most recent call last)",
            "\u001b[0;32m/usr/local/lib/python3.10/dist-packages/AO3/session.py\u001b[0m in \u001b[0;36mget_history\u001b[0;34m(self, hist_sleep, start_page, max_pages, timeout_sleep)\u001b[0m\n\u001b[1;32m    365\u001b[0m                         \u001b[0;32mtry\u001b[0m\u001b[0;34m:\u001b[0m\u001b[0;34m\u001b[0m\u001b[0;34m\u001b[0m\u001b[0m\n\u001b[0;32m--> 366\u001b[0;31m                             \u001b[0mself\u001b[0m\u001b[0;34m.\u001b[0m\u001b[0m_load_history\u001b[0m\u001b[0;34m(\u001b[0m\u001b[0mpage\u001b[0m\u001b[0;34m=\u001b[0m\u001b[0mpage\u001b[0m\u001b[0;34m+\u001b[0m\u001b[0;36m1\u001b[0m\u001b[0;34m)\u001b[0m\u001b[0;34m\u001b[0m\u001b[0;34m\u001b[0m\u001b[0m\n\u001b[0m\u001b[1;32m    367\u001b[0m                             \u001b[0;31m# print(f\"Read history page {page+1}\")\u001b[0m\u001b[0;34m\u001b[0m\u001b[0;34m\u001b[0m\u001b[0m\n",
            "\u001b[0;32m/usr/local/lib/python3.10/dist-packages/AO3/session.py\u001b[0m in \u001b[0;36m_load_history\u001b[0;34m(self, page)\u001b[0m\n\u001b[1;32m    386\u001b[0m         \u001b[0murl\u001b[0m \u001b[0;34m=\u001b[0m \u001b[0mself\u001b[0m\u001b[0;34m.\u001b[0m\u001b[0m_history_url\u001b[0m\u001b[0;34m.\u001b[0m\u001b[0mformat\u001b[0m\u001b[0;34m(\u001b[0m\u001b[0mself\u001b[0m\u001b[0;34m.\u001b[0m\u001b[0musername\u001b[0m\u001b[0;34m,\u001b[0m \u001b[0mpage\u001b[0m\u001b[0;34m)\u001b[0m\u001b[0;34m\u001b[0m\u001b[0;34m\u001b[0m\u001b[0m\n\u001b[0;32m--> 387\u001b[0;31m         \u001b[0msoup\u001b[0m \u001b[0;34m=\u001b[0m \u001b[0mself\u001b[0m\u001b[0;34m.\u001b[0m\u001b[0mrequest\u001b[0m\u001b[0;34m(\u001b[0m\u001b[0murl\u001b[0m\u001b[0;34m)\u001b[0m\u001b[0;34m\u001b[0m\u001b[0;34m\u001b[0m\u001b[0m\n\u001b[0m\u001b[1;32m    388\u001b[0m         \u001b[0mhistory\u001b[0m \u001b[0;34m=\u001b[0m \u001b[0msoup\u001b[0m\u001b[0;34m.\u001b[0m\u001b[0mfind\u001b[0m\u001b[0;34m(\u001b[0m\u001b[0;34m\"ol\"\u001b[0m\u001b[0;34m,\u001b[0m \u001b[0;34m{\u001b[0m\u001b[0;34m\"class\"\u001b[0m\u001b[0;34m:\u001b[0m \u001b[0;34m\"reading work index group\"\u001b[0m\u001b[0;34m}\u001b[0m\u001b[0;34m)\u001b[0m\u001b[0;34m\u001b[0m\u001b[0;34m\u001b[0m\u001b[0m\n",
            "\u001b[0;32m/usr/local/lib/python3.10/dist-packages/AO3/session.py\u001b[0m in \u001b[0;36mrequest\u001b[0;34m(self, url)\u001b[0m\n\u001b[1;32m    122\u001b[0m \u001b[0;34m\u001b[0m\u001b[0m\n\u001b[0;32m--> 123\u001b[0;31m         \u001b[0mreq\u001b[0m \u001b[0;34m=\u001b[0m \u001b[0mself\u001b[0m\u001b[0;34m.\u001b[0m\u001b[0mget\u001b[0m\u001b[0;34m(\u001b[0m\u001b[0murl\u001b[0m\u001b[0;34m)\u001b[0m\u001b[0;34m\u001b[0m\u001b[0;34m\u001b[0m\u001b[0m\n\u001b[0m\u001b[1;32m    124\u001b[0m         \u001b[0msoup\u001b[0m \u001b[0;34m=\u001b[0m \u001b[0mBeautifulSoup\u001b[0m\u001b[0;34m(\u001b[0m\u001b[0mreq\u001b[0m\u001b[0;34m.\u001b[0m\u001b[0mcontent\u001b[0m\u001b[0;34m,\u001b[0m \u001b[0;34m\"lxml\"\u001b[0m\u001b[0;34m)\u001b[0m\u001b[0;34m\u001b[0m\u001b[0;34m\u001b[0m\u001b[0m\n",
            "\u001b[0;32m/usr/local/lib/python3.10/dist-packages/AO3/session.py\u001b[0m in \u001b[0;36mget\u001b[0;34m(self, *args, **kwargs)\u001b[0m\n\u001b[1;32m    109\u001b[0m         \u001b[0;32mif\u001b[0m \u001b[0mreq\u001b[0m\u001b[0;34m.\u001b[0m\u001b[0mstatus_code\u001b[0m \u001b[0;34m==\u001b[0m \u001b[0;36m429\u001b[0m\u001b[0;34m:\u001b[0m\u001b[0;34m\u001b[0m\u001b[0;34m\u001b[0m\u001b[0m\n\u001b[0;32m--> 110\u001b[0;31m             \u001b[0;32mraise\u001b[0m \u001b[0mutils\u001b[0m\u001b[0;34m.\u001b[0m\u001b[0mHTTPError\u001b[0m\u001b[0;34m(\u001b[0m\u001b[0;34m\"We are being rate-limited. Try again in a while or reduce the number of requests\"\u001b[0m\u001b[0;34m)\u001b[0m\u001b[0;34m\u001b[0m\u001b[0;34m\u001b[0m\u001b[0m\n\u001b[0m\u001b[1;32m    111\u001b[0m         \u001b[0;32mreturn\u001b[0m \u001b[0mreq\u001b[0m\u001b[0;34m\u001b[0m\u001b[0;34m\u001b[0m\u001b[0m\n",
            "\u001b[0;31mHTTPError\u001b[0m: We are being rate-limited. Try again in a while or reduce the number of requests",
            "\nDuring handling of the above exception, another exception occurred:\n",
            "\u001b[0;31mKeyboardInterrupt\u001b[0m                         Traceback (most recent call last)",
            "\u001b[0;32m<ipython-input-27-bdbcc7c9a93b>\u001b[0m in \u001b[0;36m<cell line: 2>\u001b[0;34m()\u001b[0m\n\u001b[1;32m      3\u001b[0m   \u001b[0mprint\u001b[0m\u001b[0;34m(\u001b[0m\u001b[0mpage\u001b[0m\u001b[0;34m)\u001b[0m\u001b[0;34m\u001b[0m\u001b[0;34m\u001b[0m\u001b[0m\n\u001b[1;32m      4\u001b[0m   \u001b[0msession\u001b[0m\u001b[0;34m.\u001b[0m\u001b[0m_history\u001b[0m \u001b[0;34m=\u001b[0m \u001b[0;32mNone\u001b[0m\u001b[0;34m\u001b[0m\u001b[0;34m\u001b[0m\u001b[0m\n\u001b[0;32m----> 5\u001b[0;31m   \u001b[0mhistory\u001b[0m \u001b[0;34m=\u001b[0m \u001b[0msession\u001b[0m\u001b[0;34m.\u001b[0m\u001b[0mget_history\u001b[0m\u001b[0;34m(\u001b[0m\u001b[0mstart_page\u001b[0m\u001b[0;34m=\u001b[0m\u001b[0mpage\u001b[0m\u001b[0;34m,\u001b[0m \u001b[0mmax_pages\u001b[0m\u001b[0;34m=\u001b[0m\u001b[0mpage\u001b[0m\u001b[0;34m)\u001b[0m\u001b[0;34m\u001b[0m\u001b[0;34m\u001b[0m\u001b[0m\n\u001b[0m\u001b[1;32m      6\u001b[0m   \u001b[0mpage\u001b[0m \u001b[0;34m+=\u001b[0m \u001b[0;36m1\u001b[0m\u001b[0;34m\u001b[0m\u001b[0;34m\u001b[0m\u001b[0m\n\u001b[1;32m      7\u001b[0m   \u001b[0;32mfor\u001b[0m \u001b[0mwork\u001b[0m \u001b[0;32min\u001b[0m \u001b[0mhistory\u001b[0m\u001b[0;34m:\u001b[0m\u001b[0;34m\u001b[0m\u001b[0;34m\u001b[0m\u001b[0m\n",
            "\u001b[0;32m/usr/local/lib/python3.10/dist-packages/AO3/session.py\u001b[0m in \u001b[0;36mget_history\u001b[0;34m(self, hist_sleep, start_page, max_pages, timeout_sleep)\u001b[0m\n\u001b[1;32m    370\u001b[0m                         \u001b[0;32mexcept\u001b[0m \u001b[0mutils\u001b[0m\u001b[0;34m.\u001b[0m\u001b[0mHTTPError\u001b[0m\u001b[0;34m:\u001b[0m\u001b[0;34m\u001b[0m\u001b[0;34m\u001b[0m\u001b[0m\n\u001b[1;32m    371\u001b[0m                             \u001b[0;31m# print(f\"History being rate limited, sleeping for {timeout_sleep} seconds\")\u001b[0m\u001b[0;34m\u001b[0m\u001b[0;34m\u001b[0m\u001b[0m\n\u001b[0;32m--> 372\u001b[0;31m                             \u001b[0mtime\u001b[0m\u001b[0;34m.\u001b[0m\u001b[0msleep\u001b[0m\u001b[0;34m(\u001b[0m\u001b[0mtimeout_sleep\u001b[0m\u001b[0;34m)\u001b[0m\u001b[0;34m\u001b[0m\u001b[0;34m\u001b[0m\u001b[0m\n\u001b[0m\u001b[1;32m    373\u001b[0m \u001b[0;34m\u001b[0m\u001b[0m\n\u001b[1;32m    374\u001b[0m                 \u001b[0;31m# Check for maximum history page load\u001b[0m\u001b[0;34m\u001b[0m\u001b[0;34m\u001b[0m\u001b[0m\n",
            "\u001b[0;31mKeyboardInterrupt\u001b[0m: "
          ]
        }
      ],
      "source": [
        "page = 0\n",
        "while in_date:\n",
        "  print(page)\n",
        "  session._history = None\n",
        "  history = session.get_history(start_page=page, max_pages=page)\n",
        "  page += 1\n",
        "  for work in history:\n",
        "    if work[2].year != curr_year:\n",
        "      in_date = False\n",
        "    try:\n",
        "      parce_work(AO3.Work(work[0].id, session=session, load_chapters=False))\n",
        "    except:\n",
        "      print(f'work {work[0].title} unavaliable')\n",
        "      pass\n",
        "  time.sleep(5)"
      ]
    },
    {
      "cell_type": "code",
      "source": [
        "categories_list = sorted(categories.items(), key=lambda x:x[1], reverse=True)\n",
        "rating_list = sorted(rating.items(), key=lambda x:x[1], reverse=True)\n",
        "fandoms_list = sorted(fandoms.items(), key=lambda x:x[1], reverse=True)\n",
        "ships_list = sorted(ships.items(), key=lambda x:x[1], reverse=True)\n",
        "characters_list = sorted(characters.items(), key=lambda x:x[1], reverse=True)\n",
        "tags_list = sorted(tags.items(), key=lambda x:x[1], reverse=True)"
      ],
      "metadata": {
        "id": "2L9xr2nrfiV0"
      },
      "execution_count": 28,
      "outputs": []
    },
    {
      "cell_type": "code",
      "source": [
        "def print_top(items_list):\n",
        "  for i in range(len(items_list)):\n",
        "    print(f'{i}. {items_list[i][0]} - {items_list[i][1]}')\n",
        "  print()"
      ],
      "metadata": {
        "id": "-__GnsjDQ1xD"
      },
      "execution_count": 29,
      "outputs": []
    },
    {
      "cell_type": "code",
      "execution_count": 32,
      "metadata": {
        "id": "sbNS1XHfWWTH",
        "colab": {
          "base_uri": "https://localhost:8080/"
        },
        "outputId": "c0d766dd-962e-422a-e94d-7a2fa9015070"
      },
      "outputs": [
        {
          "output_type": "stream",
          "name": "stdout",
          "text": [
            "total words 1495547\n",
            "total works 111\n",
            "\n",
            "categories top:\n",
            "0. M/M - 1\n",
            "1. F/M - 1\n",
            "2. Gen - 1\n",
            "3. Multi - 1\n",
            "4. F/F - 0\n",
            "5. Other - 0\n",
            "6. No category - 0\n",
            "\n",
            "ratings top:\n",
            "0. Teen And Up Audiences - 64\n",
            "1. General Audiences - 21\n",
            "2. Mature - 21\n",
            "3. Explicit - 5\n",
            "4. Not Rated - 0\n",
            "\n",
            "fandoms top:\n",
            "0. Avatar: The Last Airbender - 74\n",
            "1. Disco Elysium (Video Game) - 35\n",
            "2. Disco Elysium - 2\n",
            "\n",
            "ships top:\n",
            "0. Harry Du Bois/Kim Kitsuragi - 33\n",
            "1. The Gaang & Zuko (Avatar) - 30\n",
            "2. Iroh & Zuko (Avatar) - 26\n",
            "3. Sokka & Zuko (Avatar) - 18\n",
            "4. Aang & Zuko (Avatar) - 18\n",
            "\n",
            "characters top:\n",
            "0. Zuko (Avatar) - 70\n",
            "1. Sokka (Avatar) - 44\n",
            "2. Katara (Avatar) - 38\n",
            "3. Aang (Avatar) - 38\n",
            "4. Kim Kitsuragi - 35\n",
            "\n",
            "tags top:\n",
            "0. Alternate Universe - Canon Divergence - 25\n",
            "1. Angst - 18\n",
            "2. Hurt/Comfort - 18\n",
            "3. Post-Canon - 14\n",
            "4. Fluff - 9\n",
            "\n"
          ]
        }
      ],
      "source": [
        "print(f'total words {total_words}')\n",
        "print(f'total works {total_works}\\n')\n",
        "\n",
        "print('categories top:')\n",
        "print_top(categories_list)\n",
        "\n",
        "print('ratings top:')\n",
        "print_top(rating_list)\n",
        "\n",
        "print('fandoms top:')\n",
        "print_top(fandoms_list[:5])\n",
        "\n",
        "print('ships top:')\n",
        "print_top(ships_list[:5])\n",
        "\n",
        "print('characters top:')\n",
        "print_top(characters_list[:5])\n",
        "\n",
        "print('tags top:')\n",
        "print_top(tags_list[:5])"
      ]
    },
    {
      "cell_type": "code",
      "source": [],
      "metadata": {
        "id": "HFVLqlTrycpD"
      },
      "execution_count": null,
      "outputs": []
    },
    {
      "cell_type": "code",
      "source": [
        "AO3.Work(31456583, session=session).metadata"
      ],
      "metadata": {
        "colab": {
          "base_uri": "https://localhost:8080/"
        },
        "id": "dGOxpbxW3X8-",
        "outputId": "8b1ef392-b11d-4ff1-d591-80bff676759a"
      },
      "execution_count": 10,
      "outputs": [
        {
          "output_type": "execute_result",
          "data": {
            "text/plain": [
              "{'date_edited': '2023-10-08 17:14:29',\n",
              " 'date_published': '2021-05-22 00:00:00',\n",
              " 'date_updated': '2021-05-22 00:00:00',\n",
              " 'bookmarks': 95,\n",
              " 'categories': ['Gen'],\n",
              " 'nchapters': 1,\n",
              " 'characters': ['Zuko (Avatar)',\n",
              "  'Sokka (Avatar)',\n",
              "  'Piandao (Avatar)',\n",
              "  'Katara (Avatar)',\n",
              "  'Toph Beifong',\n",
              "  'Aang (Avatar)',\n",
              "  'The Gaang (Avatar)',\n",
              "  'Order Of The White Lotus (Avatar)',\n",
              "  'Dr. Atsuko (OC)(mentioned)',\n",
              "  'Fat (Avatar)'],\n",
              " 'complete': True,\n",
              " 'comments': 256,\n",
              " 'expected_chapters': 1,\n",
              " 'fandoms': ['Avatar: The Last Airbender'],\n",
              " 'hits': 23676,\n",
              " 'kudos': 3936,\n",
              " 'language': 'English',\n",
              " 'rating': 'Teen And Up Audiences',\n",
              " 'relationships': ['Piandao & Zuko (Avatar)',\n",
              "  'Piandao & Sokka (Avatar)',\n",
              "  'Aang & Katara & Sokka & Toph & Zuko (Avatar)',\n",
              "  'The Gaang & Zuko (Avatar)'],\n",
              " 'restricted': True,\n",
              " 'status': 'Completed',\n",
              " 'summary': '\\nSokka wants to become a master sword fighter. Zuko knows exactly where to go.\\n',\n",
              " 'tags': [\"Episode: s03e04 Sokka's Master\",\n",
              "  'that feeling when your friend walks up to a random castle',\n",
              "  'and knocks on the door',\n",
              "  'and the answering butler addresses him by the name that has a warrant out for his arrest',\n",
              "  'just a fun little thing',\n",
              "  'I love this episode',\n",
              "  \"Let The Gaang Stay at Piandao's 2k21\"],\n",
              " 'title': 'Materiel',\n",
              " 'warnings': ['No Archive Warnings Apply'],\n",
              " 'id': 31456583,\n",
              " 'words': 3747,\n",
              " 'collections': [\"Completed stories I've read\", 'Mah Cabbages'],\n",
              " 'authors': ['00AwkwardPenguin00'],\n",
              " 'series': ['Dragon of the Yuyan'],\n",
              " 'chapter_titles': ['Materiel']}"
            ]
          },
          "metadata": {},
          "execution_count": 10
        }
      ]
    },
    {
      "cell_type": "code",
      "source": [],
      "metadata": {
        "id": "t6lHZH3o3dbG"
      },
      "execution_count": null,
      "outputs": []
    }
  ],
  "metadata": {
    "colab": {
      "provenance": [],
      "authorship_tag": "ABX9TyMXpRaTH6xQbwgZLSF4z4XF",
      "include_colab_link": true
    },
    "kernelspec": {
      "display_name": "Python 3",
      "name": "python3"
    },
    "language_info": {
      "name": "python"
    }
  },
  "nbformat": 4,
  "nbformat_minor": 0
}