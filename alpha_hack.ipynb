{
  "cells": [
    {
      "cell_type": "markdown",
      "metadata": {
        "id": "view-in-github",
        "colab_type": "text"
      },
      "source": [
        "<a href=\"https://colab.research.google.com/github/t0r8ern1t/other_stuff/blob/main/alpha_hack.ipynb\" target=\"_parent\"><img src=\"https://colab.research.google.com/assets/colab-badge.svg\" alt=\"Open In Colab\"/></a>"
      ]
    },
    {
      "cell_type": "markdown",
      "id": "bba66d00-cc4e-4075-9687-1e6da40b4d37",
      "metadata": {
        "id": "bba66d00-cc4e-4075-9687-1e6da40b4d37"
      },
      "source": [
        "# Baseline"
      ]
    },
    {
      "cell_type": "code",
      "execution_count": 399,
      "id": "0a609494-f725-4749-9a47-e15592616b94",
      "metadata": {
        "execution": {
          "iopub.execute_input": "2023-09-06T06:18:09.667959Z",
          "iopub.status.busy": "2023-09-06T06:18:09.667594Z",
          "iopub.status.idle": "2023-09-06T06:18:13.554794Z",
          "shell.execute_reply": "2023-09-06T06:18:13.553977Z",
          "shell.execute_reply.started": "2023-09-06T06:18:09.667934Z"
        },
        "tags": [],
        "id": "0a609494-f725-4749-9a47-e15592616b94"
      },
      "outputs": [],
      "source": [
        "import pandas as pd\n",
        "\n",
        "from lightgbm import LGBMClassifier\n",
        "from sklearn.metrics import roc_auc_score\n",
        "from sklearn.model_selection import train_test_split"
      ]
    },
    {
      "cell_type": "markdown",
      "id": "495edb84-1e54-4858-a999-bec5a0f2fb96",
      "metadata": {
        "id": "495edb84-1e54-4858-a999-bec5a0f2fb96"
      },
      "source": [
        "## Загрузка данных"
      ]
    },
    {
      "cell_type": "code",
      "execution_count": 514,
      "id": "73b1d934-7ad5-4881-b589-d45392510161",
      "metadata": {
        "execution": {
          "iopub.execute_input": "2023-09-06T06:18:13.556679Z",
          "iopub.status.busy": "2023-09-06T06:18:13.556157Z",
          "iopub.status.idle": "2023-09-06T06:18:13.945247Z",
          "shell.execute_reply": "2023-09-06T06:18:13.944482Z",
          "shell.execute_reply.started": "2023-09-06T06:18:13.556655Z"
        },
        "tags": [],
        "id": "73b1d934-7ad5-4881-b589-d45392510161"
      },
      "outputs": [],
      "source": [
        "train_df = pd.read_parquet('train.parquet')\n",
        "test_df = pd.read_parquet('test.parquet')"
      ]
    },
    {
      "cell_type": "markdown",
      "id": "67b32f0c-5d70-4435-a8d5-7d41b4c6826b",
      "metadata": {
        "id": "67b32f0c-5d70-4435-a8d5-7d41b4c6826b"
      },
      "source": [
        "## Обработка данных"
      ]
    },
    {
      "cell_type": "markdown",
      "id": "65425a43-b496-4aae-9cbf-217d7ba50047",
      "metadata": {
        "execution": {
          "iopub.execute_input": "2023-08-30T11:51:15.377327Z",
          "iopub.status.busy": "2023-08-30T11:51:15.376738Z",
          "iopub.status.idle": "2023-08-30T11:51:15.417269Z",
          "shell.execute_reply": "2023-08-30T11:51:15.416369Z",
          "shell.execute_reply.started": "2023-08-30T11:51:15.377282Z"
        },
        "tags": [],
        "id": "65425a43-b496-4aae-9cbf-217d7ba50047"
      },
      "source": [
        "Для базовой модели отбросим отдельные таргеты и будем использовать только total_target."
      ]
    },
    {
      "cell_type": "code",
      "execution_count": 515,
      "id": "ae050d6d-b793-48c1-b487-75ff8acb9ff2",
      "metadata": {
        "execution": {
          "iopub.execute_input": "2023-09-06T06:18:14.000541Z",
          "iopub.status.busy": "2023-09-06T06:18:14.000311Z",
          "iopub.status.idle": "2023-09-06T06:18:14.122317Z",
          "shell.execute_reply": "2023-09-06T06:18:14.121468Z",
          "shell.execute_reply.started": "2023-09-06T06:18:14.000524Z"
        },
        "tags": [],
        "id": "ae050d6d-b793-48c1-b487-75ff8acb9ff2"
      },
      "outputs": [],
      "source": [
        "train_df.drop([\"id\", \"target_1\", \"target_2\"], axis=1, inplace=True)"
      ]
    },
    {
      "cell_type": "code",
      "source": [
        "train_df['ogrn_year'] = train_df['ogrn_year'].fillna(0)\n",
        "train_df.ogrn_year = train_df.ogrn_year.astype(str).astype(int)\n",
        "import numpy as np\n",
        "\n",
        "# train_df['cat_col'] = train_df.city\n",
        "# train_df.cat_col = train_df.cat_col.astype(\"category\")\n",
        "# cat_columns = train_df.select_dtypes(['category']).columns\n",
        "# train_df[cat_columns] = train_df[cat_columns].apply(lambda x: x.cat.codes)\n",
        "# train_df.cat_col.info()\n",
        "\n",
        "\n",
        "# import seaborn as sns\n",
        "# sns.scatterplot(data=train_df, x = 'city', y = 'total_target')"
      ],
      "metadata": {
        "id": "i8hrWHyXLinc"
      },
      "id": "i8hrWHyXLinc",
      "execution_count": 516,
      "outputs": []
    },
    {
      "cell_type": "code",
      "source": [
        "a = []\n",
        "for i in train_df.columns:\n",
        "  if train_df.dtypes[i] == 'object':\n",
        "    a.append(i)\n",
        "    print(i)\n",
        "train_df.drop(a, axis=1, inplace=True)\n",
        "\n",
        "nulls = train_df.isnull().sum()/len(train_df)*100\n",
        "for i in train_df.columns:\n",
        "    median = train_df[i].median()\n",
        "    train_df[i].fillna(median, inplace=True)\n"
      ],
      "metadata": {
        "colab": {
          "base_uri": "https://localhost:8080/"
        },
        "id": "jQxczJoir298",
        "outputId": "dad06ef8-2775-47a1-fe0a-d94f2cf09d7c"
      },
      "id": "jQxczJoir298",
      "execution_count": 517,
      "outputs": [
        {
          "output_type": "stream",
          "name": "stdout",
          "text": [
            "channel_code\n",
            "city\n",
            "city_type\n",
            "index_city_code\n",
            "ogrn_month\n",
            "branch_code\n",
            "okved\n",
            "segment\n"
          ]
        }
      ]
    },
    {
      "cell_type": "code",
      "source": [
        "features = list(train_df)"
      ],
      "metadata": {
        "id": "CQuRQU4JSM_T"
      },
      "id": "CQuRQU4JSM_T",
      "execution_count": 518,
      "outputs": []
    },
    {
      "cell_type": "code",
      "source": [
        "df_target_1 = train_df.query('total_target == 1')\n",
        "df_target_0 = train_df.query('total_target == 0')\n",
        "corr1 = df_target_1[features].corr().to_numpy()\n",
        "corr0 = df_target_0[features].corr().to_numpy()"
      ],
      "metadata": {
        "id": "Xb_902epgOoB"
      },
      "id": "Xb_902epgOoB",
      "execution_count": 519,
      "outputs": []
    },
    {
      "cell_type": "code",
      "source": [
        "def if_corrs(x, y):\n",
        "    if abs(corr0[x][y])+0.2 < abs(corr1[x][y]):\n",
        "      return True\n",
        "    else:\n",
        "      return False"
      ],
      "metadata": {
        "id": "vz73Ukdb4X3J"
      },
      "id": "vz73Ukdb4X3J",
      "execution_count": 520,
      "outputs": []
    },
    {
      "cell_type": "code",
      "source": [
        "import seaborn as sns\n",
        "\n",
        "additional_features = []\n",
        "flag = 0\n",
        "for i in range(len(features)):\n",
        "  for j in range(len(features)):\n",
        "    if abs(corr1[i][j]) > 0.5 and corr1[i][j] != 1:\n",
        "      if if_corrs(i, j) and [features[j], features[i]] not in additional_features:\n",
        "        additional_features.append([features[i], features[j]])\n",
        "        print(corr1[i][j], corr0[i][j], features[i], features[j])\n",
        "index = 0\n",
        "for feat in additional_features:\n",
        "  train_df[f'f{index}'] = train_df[f'{feat[0]}'] * train_df[f'{feat[1]}']\n",
        "  index += 1\n",
        "\n",
        "drop_features = []\n",
        "for i in range(len(features)):\n",
        "  flag = False\n",
        "  for j in range(len(features)):\n",
        "    if i == j:\n",
        "      continue\n",
        "    else:\n",
        "      if abs(corr1[i][j]) > 0.2:\n",
        "        flag = True\n",
        "        break\n",
        "  if not flag and features[i] != 'total_target':\n",
        "    drop_features.append(features[i])\n",
        "    print(features[i])\n",
        "train_df.drop(drop_features, axis=1, inplace=True)\n",
        "\n",
        "#train_df.head(10)"
      ],
      "metadata": {
        "colab": {
          "base_uri": "https://localhost:8080/"
        },
        "id": "owloO4vM5doJ",
        "outputId": "d2a2b3a9-3da8-4be8-db4e-e26f0a31e4db"
      },
      "id": "owloO4vM5doJ",
      "execution_count": 521,
      "outputs": [
        {
          "output_type": "stream",
          "name": "stdout",
          "text": [
            "0.7070074504348652 0.39758927689968737 balance_amt_max sum_deb_e_oper_1m\n",
            "0.6813657450329798 0.4565501332915982 balance_amt_max sum_cred_e_oper_1m\n",
            "0.5940081603914732 0.3635850668094151 balance_amt_max sum_deb_e_oper_3m\n",
            "0.6352166967540054 0.39842831398943485 cnt_days_deb_e_oper_1m cnt_deb_g_oper_1m\n",
            "0.7388496028674509 0.04285269680081798 cnt_deb_f_oper_1m cnt_days_deb_f_oper_1m\n",
            "0.6229241095257148 0.043132097621974674 cnt_deb_f_oper_1m cnt_days_deb_f_oper_3m\n",
            "0.7230131461493428 0.0417851806738491 cnt_days_deb_f_oper_1m cnt_deb_f_oper_3m\n",
            "0.960691562839762 0.0661046253798805 cnt_cred_f_oper_1m cnt_days_cred_f_oper_1m\n",
            "0.6885175049093605 0.06993695407473913 cnt_cred_f_oper_1m cnt_days_cred_f_oper_3m\n",
            "0.8523351041123826 0.5468113644294802 cnt_deb_g_oper_1m cnt_days_deb_g_oper_1m\n",
            "0.761862953718361 0.5301290010907952 cnt_deb_g_oper_1m cnt_days_deb_g_oper_3m\n",
            "0.8006368740831472 0.045036285899430324 cnt_deb_f_oper_3m cnt_days_deb_f_oper_3m\n",
            "0.8611666917045677 0.6451919654641808 cnt_cred_g_oper_3m cnt_days_cred_g_oper_3m\n",
            "balance_amt_min\n",
            "cnt_cred_e_oper_3m\n",
            "sum_cred_f_oper_3m\n",
            "cnt_cred_f_oper_3m\n"
          ]
        }
      ]
    },
    {
      "cell_type": "code",
      "source": [
        "train_df.cnt_deb_f_oper_1m"
      ],
      "metadata": {
        "colab": {
          "base_uri": "https://localhost:8080/"
        },
        "id": "GB_5MA5Hiqjd",
        "outputId": "59ee5964-b6df-480c-ad6f-c37700e25d58"
      },
      "id": "GB_5MA5Hiqjd",
      "execution_count": 22,
      "outputs": [
        {
          "output_type": "execute_result",
          "data": {
            "text/plain": [
              "0        -0.018435\n",
              "1        -0.008488\n",
              "2        -0.018435\n",
              "3        -0.018435\n",
              "4         0.001458\n",
              "            ...   \n",
              "299995   -0.018435\n",
              "299996   -0.018435\n",
              "299997   -0.001858\n",
              "299998   -0.018435\n",
              "299999    0.018035\n",
              "Name: cnt_deb_f_oper_1m, Length: 300000, dtype: float64"
            ]
          },
          "metadata": {},
          "execution_count": 22
        }
      ]
    },
    {
      "cell_type": "code",
      "source": [
        "#df_target_0.corr().style.background_gradient(cmap='coolwarm').set_precision(2)"
      ],
      "metadata": {
        "id": "Hs3t6y9vqiUd"
      },
      "id": "Hs3t6y9vqiUd",
      "execution_count": null,
      "outputs": []
    },
    {
      "cell_type": "markdown",
      "source": [
        "sns.scatterplot(data=train_df,x=\"total_target\", y=\"max_end_plan_non_fin_deals\")"
      ],
      "metadata": {
        "id": "ABfzsTD8uEzf"
      },
      "id": "ABfzsTD8uEzf"
    },
    {
      "cell_type": "markdown",
      "id": "d1bdd05e-f785-4d72-9ebb-012c481804d0",
      "metadata": {
        "id": "d1bdd05e-f785-4d72-9ebb-012c481804d0"
      },
      "source": [
        "Преобразуем тип категориальных признаков"
      ]
    },
    {
      "cell_type": "code",
      "execution_count": null,
      "id": "4ff73f27-969f-4c12-af6d-5e745b107ef5",
      "metadata": {
        "execution": {
          "iopub.execute_input": "2023-09-06T06:18:14.445065Z",
          "iopub.status.busy": "2023-09-06T06:18:14.444630Z",
          "iopub.status.idle": "2023-09-06T06:18:14.448491Z",
          "shell.execute_reply": "2023-09-06T06:18:14.447886Z",
          "shell.execute_reply.started": "2023-09-06T06:18:14.445026Z"
        },
        "tags": [],
        "id": "4ff73f27-969f-4c12-af6d-5e745b107ef5"
      },
      "outputs": [],
      "source": [
        "cat_cols = a"
      ]
    },
    {
      "cell_type": "code",
      "execution_count": null,
      "id": "c07db730-5abe-43e0-a05b-4a266e572cb2",
      "metadata": {
        "execution": {
          "iopub.execute_input": "2023-09-06T06:18:14.462578Z",
          "iopub.status.busy": "2023-09-06T06:18:14.462288Z",
          "iopub.status.idle": "2023-09-06T06:18:14.704172Z",
          "shell.execute_reply": "2023-09-06T06:18:14.703182Z",
          "shell.execute_reply.started": "2023-09-06T06:18:14.462550Z"
        },
        "tags": [],
        "id": "c07db730-5abe-43e0-a05b-4a266e572cb2"
      },
      "outputs": [],
      "source": [
        "train_df[cat_cols] = train_df[cat_cols].astype(\"category\")"
      ]
    },
    {
      "cell_type": "markdown",
      "id": "848a5194-66b9-4a1d-a5af-b97b62054125",
      "metadata": {
        "id": "848a5194-66b9-4a1d-a5af-b97b62054125"
      },
      "source": [
        "## Разбиение на train, validation"
      ]
    },
    {
      "cell_type": "code",
      "execution_count": 522,
      "id": "f9c24b53-9a3b-4121-bad4-523826a82301",
      "metadata": {
        "execution": {
          "iopub.execute_input": "2023-09-06T06:18:14.742723Z",
          "iopub.status.busy": "2023-09-06T06:18:14.742395Z",
          "iopub.status.idle": "2023-09-06T06:18:15.126388Z",
          "shell.execute_reply": "2023-09-06T06:18:15.125483Z",
          "shell.execute_reply.started": "2023-09-06T06:18:14.742706Z"
        },
        "tags": [],
        "id": "f9c24b53-9a3b-4121-bad4-523826a82301"
      },
      "outputs": [],
      "source": [
        "X = train_df.drop(\"total_target\", axis=1)\n",
        "y = train_df.total_target\n",
        "x_train, x_val, y_train, y_val = train_test_split(X, y,\n",
        "                                                  test_size=0.2,\n",
        "                                                  random_state=42)"
      ]
    },
    {
      "cell_type": "markdown",
      "id": "f8f7d39e-c56b-4700-a0dc-909888e1b254",
      "metadata": {
        "id": "f8f7d39e-c56b-4700-a0dc-909888e1b254"
      },
      "source": [
        "## Обучение базовой модели"
      ]
    },
    {
      "cell_type": "markdown",
      "id": "022f3ef3-813d-4df1-b1fd-7965a9e4b203",
      "metadata": {
        "id": "022f3ef3-813d-4df1-b1fd-7965a9e4b203"
      },
      "source": [
        "В качестве базовой модели возьмем LGBMClassifier"
      ]
    },
    {
      "cell_type": "code",
      "execution_count": 523,
      "id": "bf4a32a9-ee54-4d27-9751-e09f394bed11",
      "metadata": {
        "execution": {
          "iopub.execute_input": "2023-09-06T06:18:28.031194Z",
          "iopub.status.busy": "2023-09-06T06:18:28.030729Z",
          "iopub.status.idle": "2023-09-06T06:18:32.761014Z",
          "shell.execute_reply": "2023-09-06T06:18:32.759926Z",
          "shell.execute_reply.started": "2023-09-06T06:18:28.031162Z"
        },
        "tags": [],
        "colab": {
          "base_uri": "https://localhost:8080/",
          "height": 74
        },
        "id": "bf4a32a9-ee54-4d27-9751-e09f394bed11",
        "outputId": "1e05c11d-e896-457c-9431-d20e811f0575"
      },
      "outputs": [
        {
          "output_type": "execute_result",
          "data": {
            "text/plain": [
              "LGBMClassifier(random_state=42, verbosity=-1)"
            ],
            "text/html": [
              "<style>#sk-container-id-51 {color: black;background-color: white;}#sk-container-id-51 pre{padding: 0;}#sk-container-id-51 div.sk-toggleable {background-color: white;}#sk-container-id-51 label.sk-toggleable__label {cursor: pointer;display: block;width: 100%;margin-bottom: 0;padding: 0.3em;box-sizing: border-box;text-align: center;}#sk-container-id-51 label.sk-toggleable__label-arrow:before {content: \"▸\";float: left;margin-right: 0.25em;color: #696969;}#sk-container-id-51 label.sk-toggleable__label-arrow:hover:before {color: black;}#sk-container-id-51 div.sk-estimator:hover label.sk-toggleable__label-arrow:before {color: black;}#sk-container-id-51 div.sk-toggleable__content {max-height: 0;max-width: 0;overflow: hidden;text-align: left;background-color: #f0f8ff;}#sk-container-id-51 div.sk-toggleable__content pre {margin: 0.2em;color: black;border-radius: 0.25em;background-color: #f0f8ff;}#sk-container-id-51 input.sk-toggleable__control:checked~div.sk-toggleable__content {max-height: 200px;max-width: 100%;overflow: auto;}#sk-container-id-51 input.sk-toggleable__control:checked~label.sk-toggleable__label-arrow:before {content: \"▾\";}#sk-container-id-51 div.sk-estimator input.sk-toggleable__control:checked~label.sk-toggleable__label {background-color: #d4ebff;}#sk-container-id-51 div.sk-label input.sk-toggleable__control:checked~label.sk-toggleable__label {background-color: #d4ebff;}#sk-container-id-51 input.sk-hidden--visually {border: 0;clip: rect(1px 1px 1px 1px);clip: rect(1px, 1px, 1px, 1px);height: 1px;margin: -1px;overflow: hidden;padding: 0;position: absolute;width: 1px;}#sk-container-id-51 div.sk-estimator {font-family: monospace;background-color: #f0f8ff;border: 1px dotted black;border-radius: 0.25em;box-sizing: border-box;margin-bottom: 0.5em;}#sk-container-id-51 div.sk-estimator:hover {background-color: #d4ebff;}#sk-container-id-51 div.sk-parallel-item::after {content: \"\";width: 100%;border-bottom: 1px solid gray;flex-grow: 1;}#sk-container-id-51 div.sk-label:hover label.sk-toggleable__label {background-color: #d4ebff;}#sk-container-id-51 div.sk-serial::before {content: \"\";position: absolute;border-left: 1px solid gray;box-sizing: border-box;top: 0;bottom: 0;left: 50%;z-index: 0;}#sk-container-id-51 div.sk-serial {display: flex;flex-direction: column;align-items: center;background-color: white;padding-right: 0.2em;padding-left: 0.2em;position: relative;}#sk-container-id-51 div.sk-item {position: relative;z-index: 1;}#sk-container-id-51 div.sk-parallel {display: flex;align-items: stretch;justify-content: center;background-color: white;position: relative;}#sk-container-id-51 div.sk-item::before, #sk-container-id-51 div.sk-parallel-item::before {content: \"\";position: absolute;border-left: 1px solid gray;box-sizing: border-box;top: 0;bottom: 0;left: 50%;z-index: -1;}#sk-container-id-51 div.sk-parallel-item {display: flex;flex-direction: column;z-index: 1;position: relative;background-color: white;}#sk-container-id-51 div.sk-parallel-item:first-child::after {align-self: flex-end;width: 50%;}#sk-container-id-51 div.sk-parallel-item:last-child::after {align-self: flex-start;width: 50%;}#sk-container-id-51 div.sk-parallel-item:only-child::after {width: 0;}#sk-container-id-51 div.sk-dashed-wrapped {border: 1px dashed gray;margin: 0 0.4em 0.5em 0.4em;box-sizing: border-box;padding-bottom: 0.4em;background-color: white;}#sk-container-id-51 div.sk-label label {font-family: monospace;font-weight: bold;display: inline-block;line-height: 1.2em;}#sk-container-id-51 div.sk-label-container {text-align: center;}#sk-container-id-51 div.sk-container {/* jupyter's `normalize.less` sets `[hidden] { display: none; }` but bootstrap.min.css set `[hidden] { display: none !important; }` so we also need the `!important` here to be able to override the default hidden behavior on the sphinx rendered scikit-learn.org. See: https://github.com/scikit-learn/scikit-learn/issues/21755 */display: inline-block !important;position: relative;}#sk-container-id-51 div.sk-text-repr-fallback {display: none;}</style><div id=\"sk-container-id-51\" class=\"sk-top-container\"><div class=\"sk-text-repr-fallback\"><pre>LGBMClassifier(random_state=42, verbosity=-1)</pre><b>In a Jupyter environment, please rerun this cell to show the HTML representation or trust the notebook. <br />On GitHub, the HTML representation is unable to render, please try loading this page with nbviewer.org.</b></div><div class=\"sk-container\" hidden><div class=\"sk-item\"><div class=\"sk-estimator sk-toggleable\"><input class=\"sk-toggleable__control sk-hidden--visually\" id=\"sk-estimator-id-51\" type=\"checkbox\" checked><label for=\"sk-estimator-id-51\" class=\"sk-toggleable__label sk-toggleable__label-arrow\">LGBMClassifier</label><div class=\"sk-toggleable__content\"><pre>LGBMClassifier(random_state=42, verbosity=-1)</pre></div></div></div></div></div>"
            ]
          },
          "metadata": {},
          "execution_count": 523
        }
      ],
      "source": [
        "model = LGBMClassifier(verbosity=-1, random_state=42)\n",
        "model.fit(x_train, y_train)"
      ]
    },
    {
      "cell_type": "code",
      "execution_count": 524,
      "id": "93841dd8-9ae0-49e9-a98e-b2a84e7a8ae5",
      "metadata": {
        "execution": {
          "iopub.execute_input": "2023-09-06T06:18:32.781475Z",
          "iopub.status.busy": "2023-09-06T06:18:32.781296Z",
          "iopub.status.idle": "2023-09-06T06:18:33.175929Z",
          "shell.execute_reply": "2023-09-06T06:18:33.175193Z",
          "shell.execute_reply.started": "2023-09-06T06:18:32.781459Z"
        },
        "tags": [],
        "colab": {
          "base_uri": "https://localhost:8080/"
        },
        "id": "93841dd8-9ae0-49e9-a98e-b2a84e7a8ae5",
        "outputId": "e034cb10-35af-405e-fd9b-ded6e160d2a5"
      },
      "outputs": [
        {
          "output_type": "execute_result",
          "data": {
            "text/plain": [
              "0.8766382071805705"
            ]
          },
          "metadata": {},
          "execution_count": 524
        }
      ],
      "source": [
        "y_pred = model.predict_proba(x_val)[:, 1]\n",
        "roc_auc_score(y_val, y_pred)"
      ]
    },
    {
      "cell_type": "code",
      "source": [
        "# import numpy as np\n",
        "\n",
        "# city_series = test_df.city.value_counts()\n",
        "# test_df.city = test_df['city'].fillna(0)\n",
        "# test_df.city.apply(lambda x: np.nan if str(x).isdigit() else x)\n",
        "# test_df.city.describe()\n",
        "# #test_df.city = test_df.city.astype(str).astype(int)"
      ],
      "metadata": {
        "id": "yOa5LDq_1W7T",
        "colab": {
          "base_uri": "https://localhost:8080/"
        },
        "outputId": "02b642f0-2a8b-4d86-da0e-33b24ed131a4"
      },
      "id": "yOa5LDq_1W7T",
      "execution_count": 99,
      "outputs": [
        {
          "output_type": "execute_result",
          "data": {
            "text/plain": [
              "count     100000\n",
              "unique      3943\n",
              "top            0\n",
              "freq       38253\n",
              "Name: city, dtype: int64"
            ]
          },
          "metadata": {},
          "execution_count": 99
        }
      ]
    },
    {
      "cell_type": "markdown",
      "id": "eca4555d-2eaa-471a-82e9-a0b91f076b07",
      "metadata": {
        "execution": {
          "iopub.execute_input": "2023-08-30T12:41:29.400353Z",
          "iopub.status.busy": "2023-08-30T12:41:29.399933Z",
          "iopub.status.idle": "2023-08-30T12:41:29.405056Z",
          "shell.execute_reply": "2023-08-30T12:41:29.404089Z",
          "shell.execute_reply.started": "2023-08-30T12:41:29.400328Z"
        },
        "tags": [],
        "id": "eca4555d-2eaa-471a-82e9-a0b91f076b07"
      },
      "source": [
        "Качество получилось довольно неплохим, но его еще можно улучшить"
      ]
    },
    {
      "cell_type": "markdown",
      "id": "a209b3d4-f62c-44b2-b41b-d2cb3099891c",
      "metadata": {
        "id": "a209b3d4-f62c-44b2-b41b-d2cb3099891c"
      },
      "source": [
        "## Выгрузка результатов"
      ]
    },
    {
      "cell_type": "code",
      "execution_count": 506,
      "id": "b62168ec-0863-4a61-ad9b-714b3f8a06b3",
      "metadata": {
        "execution": {
          "iopub.execute_input": "2023-09-06T06:19:06.128334Z",
          "iopub.status.busy": "2023-09-06T06:19:06.127938Z",
          "iopub.status.idle": "2023-09-06T06:19:06.204306Z",
          "shell.execute_reply": "2023-09-06T06:19:06.203438Z",
          "shell.execute_reply.started": "2023-09-06T06:19:06.128309Z"
        },
        "tags": [],
        "id": "b62168ec-0863-4a61-ad9b-714b3f8a06b3"
      },
      "outputs": [],
      "source": [
        "test_df.drop(\"id\", axis=1, inplace=True)\n",
        "test_df['ogrn_year'] = test_df['ogrn_year'].fillna(0)\n",
        "test_df.ogrn_year = test_df.ogrn_year.astype(str).astype(int)\n",
        "\n",
        "# test_df['cat_col'] = test_df.city\n",
        "# test_df.cat_col = test_df.cat_col.astype(\"category\")\n",
        "# cat_columns = test_df.select_dtypes(['category']).columns\n",
        "# test_df[cat_columns] = test_df[cat_columns].apply(lambda x: x.cat.codes)\n",
        "\n",
        "a = []\n",
        "for i in test_df.columns:\n",
        "  if test_df.dtypes[i] == 'object':\n",
        "    a.append(i)\n",
        "test_df.drop(a, axis=1, inplace=True)\n",
        "\n",
        "nulls = test_df.isnull().sum()/len(test_df)*100\n",
        "for i in test_df.columns:\n",
        "    median = test_df[i].median()\n",
        "    test_df[i].fillna(median, inplace=True)\n"
      ]
    },
    {
      "cell_type": "code",
      "source": [
        "index = 0\n",
        "for feat in additional_features:\n",
        "  test_df[f'f{index}'] = test_df[f'{feat[0]}'] * test_df[f'{feat[1]}']\n",
        "  index += 1\n",
        "\n",
        "test_df.drop(drop_features, axis=1, inplace=True)"
      ],
      "metadata": {
        "id": "GQGowj1SjvqY"
      },
      "id": "GQGowj1SjvqY",
      "execution_count": 507,
      "outputs": []
    },
    {
      "cell_type": "code",
      "execution_count": 508,
      "id": "96bee7c0-be50-4ab2-a8be-8b4c9427f31c",
      "metadata": {
        "execution": {
          "iopub.execute_input": "2023-09-06T06:19:07.031629Z",
          "iopub.status.busy": "2023-09-06T06:19:07.031235Z",
          "iopub.status.idle": "2023-09-06T06:19:07.440883Z",
          "shell.execute_reply": "2023-09-06T06:19:07.440015Z",
          "shell.execute_reply.started": "2023-09-06T06:19:07.031606Z"
        },
        "tags": [],
        "id": "96bee7c0-be50-4ab2-a8be-8b4c9427f31c"
      },
      "outputs": [],
      "source": [
        "test_score = model.predict_proba(test_df)[:, 1]"
      ]
    },
    {
      "cell_type": "code",
      "execution_count": 509,
      "id": "7264130f-1cc0-4cde-a15e-1723db3bd539",
      "metadata": {
        "execution": {
          "iopub.execute_input": "2023-09-06T06:19:07.692904Z",
          "iopub.status.busy": "2023-09-06T06:19:07.692535Z",
          "iopub.status.idle": "2023-09-06T06:19:07.715661Z",
          "shell.execute_reply": "2023-09-06T06:19:07.714864Z",
          "shell.execute_reply.started": "2023-09-06T06:19:07.692878Z"
        },
        "tags": [],
        "id": "7264130f-1cc0-4cde-a15e-1723db3bd539"
      },
      "outputs": [],
      "source": [
        "sample_submission_df = pd.read_csv(\"sample_submission.csv\")"
      ]
    },
    {
      "cell_type": "code",
      "execution_count": 510,
      "id": "539bb73a-e850-44fd-b55a-ae335a77c19e",
      "metadata": {
        "execution": {
          "iopub.execute_input": "2023-09-06T06:19:09.478745Z",
          "iopub.status.busy": "2023-09-06T06:19:09.478373Z",
          "iopub.status.idle": "2023-09-06T06:19:09.485846Z",
          "shell.execute_reply": "2023-09-06T06:19:09.485218Z",
          "shell.execute_reply.started": "2023-09-06T06:19:09.478722Z"
        },
        "tags": [],
        "colab": {
          "base_uri": "https://localhost:8080/",
          "height": 206
        },
        "id": "539bb73a-e850-44fd-b55a-ae335a77c19e",
        "outputId": "ac47d10f-7c77-403d-9b16-67d3cad06a32"
      },
      "outputs": [
        {
          "output_type": "execute_result",
          "data": {
            "text/plain": [
              "       id  score\n",
              "0  300000    0.5\n",
              "1  300001    0.5\n",
              "2  300002    0.5\n",
              "3  300003    0.5\n",
              "4  300004    0.5"
            ],
            "text/html": [
              "\n",
              "  <div id=\"df-60425600-11b7-4d8d-84e3-f4156d8564e1\" class=\"colab-df-container\">\n",
              "    <div>\n",
              "<style scoped>\n",
              "    .dataframe tbody tr th:only-of-type {\n",
              "        vertical-align: middle;\n",
              "    }\n",
              "\n",
              "    .dataframe tbody tr th {\n",
              "        vertical-align: top;\n",
              "    }\n",
              "\n",
              "    .dataframe thead th {\n",
              "        text-align: right;\n",
              "    }\n",
              "</style>\n",
              "<table border=\"1\" class=\"dataframe\">\n",
              "  <thead>\n",
              "    <tr style=\"text-align: right;\">\n",
              "      <th></th>\n",
              "      <th>id</th>\n",
              "      <th>score</th>\n",
              "    </tr>\n",
              "  </thead>\n",
              "  <tbody>\n",
              "    <tr>\n",
              "      <th>0</th>\n",
              "      <td>300000</td>\n",
              "      <td>0.5</td>\n",
              "    </tr>\n",
              "    <tr>\n",
              "      <th>1</th>\n",
              "      <td>300001</td>\n",
              "      <td>0.5</td>\n",
              "    </tr>\n",
              "    <tr>\n",
              "      <th>2</th>\n",
              "      <td>300002</td>\n",
              "      <td>0.5</td>\n",
              "    </tr>\n",
              "    <tr>\n",
              "      <th>3</th>\n",
              "      <td>300003</td>\n",
              "      <td>0.5</td>\n",
              "    </tr>\n",
              "    <tr>\n",
              "      <th>4</th>\n",
              "      <td>300004</td>\n",
              "      <td>0.5</td>\n",
              "    </tr>\n",
              "  </tbody>\n",
              "</table>\n",
              "</div>\n",
              "    <div class=\"colab-df-buttons\">\n",
              "\n",
              "  <div class=\"colab-df-container\">\n",
              "    <button class=\"colab-df-convert\" onclick=\"convertToInteractive('df-60425600-11b7-4d8d-84e3-f4156d8564e1')\"\n",
              "            title=\"Convert this dataframe to an interactive table.\"\n",
              "            style=\"display:none;\">\n",
              "\n",
              "  <svg xmlns=\"http://www.w3.org/2000/svg\" height=\"24px\" viewBox=\"0 -960 960 960\">\n",
              "    <path d=\"M120-120v-720h720v720H120Zm60-500h600v-160H180v160Zm220 220h160v-160H400v160Zm0 220h160v-160H400v160ZM180-400h160v-160H180v160Zm440 0h160v-160H620v160ZM180-180h160v-160H180v160Zm440 0h160v-160H620v160Z\"/>\n",
              "  </svg>\n",
              "    </button>\n",
              "\n",
              "  <style>\n",
              "    .colab-df-container {\n",
              "      display:flex;\n",
              "      gap: 12px;\n",
              "    }\n",
              "\n",
              "    .colab-df-convert {\n",
              "      background-color: #E8F0FE;\n",
              "      border: none;\n",
              "      border-radius: 50%;\n",
              "      cursor: pointer;\n",
              "      display: none;\n",
              "      fill: #1967D2;\n",
              "      height: 32px;\n",
              "      padding: 0 0 0 0;\n",
              "      width: 32px;\n",
              "    }\n",
              "\n",
              "    .colab-df-convert:hover {\n",
              "      background-color: #E2EBFA;\n",
              "      box-shadow: 0px 1px 2px rgba(60, 64, 67, 0.3), 0px 1px 3px 1px rgba(60, 64, 67, 0.15);\n",
              "      fill: #174EA6;\n",
              "    }\n",
              "\n",
              "    .colab-df-buttons div {\n",
              "      margin-bottom: 4px;\n",
              "    }\n",
              "\n",
              "    [theme=dark] .colab-df-convert {\n",
              "      background-color: #3B4455;\n",
              "      fill: #D2E3FC;\n",
              "    }\n",
              "\n",
              "    [theme=dark] .colab-df-convert:hover {\n",
              "      background-color: #434B5C;\n",
              "      box-shadow: 0px 1px 3px 1px rgba(0, 0, 0, 0.15);\n",
              "      filter: drop-shadow(0px 1px 2px rgba(0, 0, 0, 0.3));\n",
              "      fill: #FFFFFF;\n",
              "    }\n",
              "  </style>\n",
              "\n",
              "    <script>\n",
              "      const buttonEl =\n",
              "        document.querySelector('#df-60425600-11b7-4d8d-84e3-f4156d8564e1 button.colab-df-convert');\n",
              "      buttonEl.style.display =\n",
              "        google.colab.kernel.accessAllowed ? 'block' : 'none';\n",
              "\n",
              "      async function convertToInteractive(key) {\n",
              "        const element = document.querySelector('#df-60425600-11b7-4d8d-84e3-f4156d8564e1');\n",
              "        const dataTable =\n",
              "          await google.colab.kernel.invokeFunction('convertToInteractive',\n",
              "                                                    [key], {});\n",
              "        if (!dataTable) return;\n",
              "\n",
              "        const docLinkHtml = 'Like what you see? Visit the ' +\n",
              "          '<a target=\"_blank\" href=https://colab.research.google.com/notebooks/data_table.ipynb>data table notebook</a>'\n",
              "          + ' to learn more about interactive tables.';\n",
              "        element.innerHTML = '';\n",
              "        dataTable['output_type'] = 'display_data';\n",
              "        await google.colab.output.renderOutput(dataTable, element);\n",
              "        const docLink = document.createElement('div');\n",
              "        docLink.innerHTML = docLinkHtml;\n",
              "        element.appendChild(docLink);\n",
              "      }\n",
              "    </script>\n",
              "  </div>\n",
              "\n",
              "\n",
              "<div id=\"df-9660beb9-dd66-4126-b462-708058d35344\">\n",
              "  <button class=\"colab-df-quickchart\" onclick=\"quickchart('df-9660beb9-dd66-4126-b462-708058d35344')\"\n",
              "            title=\"Suggest charts.\"\n",
              "            style=\"display:none;\">\n",
              "\n",
              "<svg xmlns=\"http://www.w3.org/2000/svg\" height=\"24px\"viewBox=\"0 0 24 24\"\n",
              "     width=\"24px\">\n",
              "    <g>\n",
              "        <path d=\"M19 3H5c-1.1 0-2 .9-2 2v14c0 1.1.9 2 2 2h14c1.1 0 2-.9 2-2V5c0-1.1-.9-2-2-2zM9 17H7v-7h2v7zm4 0h-2V7h2v10zm4 0h-2v-4h2v4z\"/>\n",
              "    </g>\n",
              "</svg>\n",
              "  </button>\n",
              "\n",
              "<style>\n",
              "  .colab-df-quickchart {\n",
              "      --bg-color: #E8F0FE;\n",
              "      --fill-color: #1967D2;\n",
              "      --hover-bg-color: #E2EBFA;\n",
              "      --hover-fill-color: #174EA6;\n",
              "      --disabled-fill-color: #AAA;\n",
              "      --disabled-bg-color: #DDD;\n",
              "  }\n",
              "\n",
              "  [theme=dark] .colab-df-quickchart {\n",
              "      --bg-color: #3B4455;\n",
              "      --fill-color: #D2E3FC;\n",
              "      --hover-bg-color: #434B5C;\n",
              "      --hover-fill-color: #FFFFFF;\n",
              "      --disabled-bg-color: #3B4455;\n",
              "      --disabled-fill-color: #666;\n",
              "  }\n",
              "\n",
              "  .colab-df-quickchart {\n",
              "    background-color: var(--bg-color);\n",
              "    border: none;\n",
              "    border-radius: 50%;\n",
              "    cursor: pointer;\n",
              "    display: none;\n",
              "    fill: var(--fill-color);\n",
              "    height: 32px;\n",
              "    padding: 0;\n",
              "    width: 32px;\n",
              "  }\n",
              "\n",
              "  .colab-df-quickchart:hover {\n",
              "    background-color: var(--hover-bg-color);\n",
              "    box-shadow: 0 1px 2px rgba(60, 64, 67, 0.3), 0 1px 3px 1px rgba(60, 64, 67, 0.15);\n",
              "    fill: var(--button-hover-fill-color);\n",
              "  }\n",
              "\n",
              "  .colab-df-quickchart-complete:disabled,\n",
              "  .colab-df-quickchart-complete:disabled:hover {\n",
              "    background-color: var(--disabled-bg-color);\n",
              "    fill: var(--disabled-fill-color);\n",
              "    box-shadow: none;\n",
              "  }\n",
              "\n",
              "  .colab-df-spinner {\n",
              "    border: 2px solid var(--fill-color);\n",
              "    border-color: transparent;\n",
              "    border-bottom-color: var(--fill-color);\n",
              "    animation:\n",
              "      spin 1s steps(1) infinite;\n",
              "  }\n",
              "\n",
              "  @keyframes spin {\n",
              "    0% {\n",
              "      border-color: transparent;\n",
              "      border-bottom-color: var(--fill-color);\n",
              "      border-left-color: var(--fill-color);\n",
              "    }\n",
              "    20% {\n",
              "      border-color: transparent;\n",
              "      border-left-color: var(--fill-color);\n",
              "      border-top-color: var(--fill-color);\n",
              "    }\n",
              "    30% {\n",
              "      border-color: transparent;\n",
              "      border-left-color: var(--fill-color);\n",
              "      border-top-color: var(--fill-color);\n",
              "      border-right-color: var(--fill-color);\n",
              "    }\n",
              "    40% {\n",
              "      border-color: transparent;\n",
              "      border-right-color: var(--fill-color);\n",
              "      border-top-color: var(--fill-color);\n",
              "    }\n",
              "    60% {\n",
              "      border-color: transparent;\n",
              "      border-right-color: var(--fill-color);\n",
              "    }\n",
              "    80% {\n",
              "      border-color: transparent;\n",
              "      border-right-color: var(--fill-color);\n",
              "      border-bottom-color: var(--fill-color);\n",
              "    }\n",
              "    90% {\n",
              "      border-color: transparent;\n",
              "      border-bottom-color: var(--fill-color);\n",
              "    }\n",
              "  }\n",
              "</style>\n",
              "\n",
              "  <script>\n",
              "    async function quickchart(key) {\n",
              "      const quickchartButtonEl =\n",
              "        document.querySelector('#' + key + ' button');\n",
              "      quickchartButtonEl.disabled = true;  // To prevent multiple clicks.\n",
              "      quickchartButtonEl.classList.add('colab-df-spinner');\n",
              "      try {\n",
              "        const charts = await google.colab.kernel.invokeFunction(\n",
              "            'suggestCharts', [key], {});\n",
              "      } catch (error) {\n",
              "        console.error('Error during call to suggestCharts:', error);\n",
              "      }\n",
              "      quickchartButtonEl.classList.remove('colab-df-spinner');\n",
              "      quickchartButtonEl.classList.add('colab-df-quickchart-complete');\n",
              "    }\n",
              "    (() => {\n",
              "      let quickchartButtonEl =\n",
              "        document.querySelector('#df-9660beb9-dd66-4126-b462-708058d35344 button');\n",
              "      quickchartButtonEl.style.display =\n",
              "        google.colab.kernel.accessAllowed ? 'block' : 'none';\n",
              "    })();\n",
              "  </script>\n",
              "</div>\n",
              "    </div>\n",
              "  </div>\n"
            ]
          },
          "metadata": {},
          "execution_count": 510
        }
      ],
      "source": [
        "sample_submission_df.head()"
      ]
    },
    {
      "cell_type": "code",
      "execution_count": 511,
      "id": "43d0e500-c503-4ccd-aca5-d07d0afa5abe",
      "metadata": {
        "execution": {
          "iopub.execute_input": "2023-09-06T06:19:10.664945Z",
          "iopub.status.busy": "2023-09-06T06:19:10.664573Z",
          "iopub.status.idle": "2023-09-06T06:19:10.668598Z",
          "shell.execute_reply": "2023-09-06T06:19:10.667934Z",
          "shell.execute_reply.started": "2023-09-06T06:19:10.664920Z"
        },
        "tags": [],
        "id": "43d0e500-c503-4ccd-aca5-d07d0afa5abe"
      },
      "outputs": [],
      "source": [
        "sample_submission_df[\"score\"] = test_score"
      ]
    },
    {
      "cell_type": "code",
      "execution_count": 512,
      "id": "0dbd4504-1f3e-401a-9bc4-40179375888d",
      "metadata": {
        "execution": {
          "iopub.execute_input": "2023-09-06T06:19:12.109339Z",
          "iopub.status.busy": "2023-09-06T06:19:12.108939Z",
          "iopub.status.idle": "2023-09-06T06:19:12.116299Z",
          "shell.execute_reply": "2023-09-06T06:19:12.115621Z",
          "shell.execute_reply.started": "2023-09-06T06:19:12.109309Z"
        },
        "tags": [],
        "colab": {
          "base_uri": "https://localhost:8080/",
          "height": 206
        },
        "id": "0dbd4504-1f3e-401a-9bc4-40179375888d",
        "outputId": "327d2de4-6527-4955-e4df-aa091f0c6208"
      },
      "outputs": [
        {
          "output_type": "execute_result",
          "data": {
            "text/plain": [
              "       id     score\n",
              "0  300000  0.169110\n",
              "1  300001  0.148075\n",
              "2  300002  0.006123\n",
              "3  300003  0.006747\n",
              "4  300004  0.009404"
            ],
            "text/html": [
              "\n",
              "  <div id=\"df-f7f292f0-568b-457e-becc-3e27fe476e91\" class=\"colab-df-container\">\n",
              "    <div>\n",
              "<style scoped>\n",
              "    .dataframe tbody tr th:only-of-type {\n",
              "        vertical-align: middle;\n",
              "    }\n",
              "\n",
              "    .dataframe tbody tr th {\n",
              "        vertical-align: top;\n",
              "    }\n",
              "\n",
              "    .dataframe thead th {\n",
              "        text-align: right;\n",
              "    }\n",
              "</style>\n",
              "<table border=\"1\" class=\"dataframe\">\n",
              "  <thead>\n",
              "    <tr style=\"text-align: right;\">\n",
              "      <th></th>\n",
              "      <th>id</th>\n",
              "      <th>score</th>\n",
              "    </tr>\n",
              "  </thead>\n",
              "  <tbody>\n",
              "    <tr>\n",
              "      <th>0</th>\n",
              "      <td>300000</td>\n",
              "      <td>0.169110</td>\n",
              "    </tr>\n",
              "    <tr>\n",
              "      <th>1</th>\n",
              "      <td>300001</td>\n",
              "      <td>0.148075</td>\n",
              "    </tr>\n",
              "    <tr>\n",
              "      <th>2</th>\n",
              "      <td>300002</td>\n",
              "      <td>0.006123</td>\n",
              "    </tr>\n",
              "    <tr>\n",
              "      <th>3</th>\n",
              "      <td>300003</td>\n",
              "      <td>0.006747</td>\n",
              "    </tr>\n",
              "    <tr>\n",
              "      <th>4</th>\n",
              "      <td>300004</td>\n",
              "      <td>0.009404</td>\n",
              "    </tr>\n",
              "  </tbody>\n",
              "</table>\n",
              "</div>\n",
              "    <div class=\"colab-df-buttons\">\n",
              "\n",
              "  <div class=\"colab-df-container\">\n",
              "    <button class=\"colab-df-convert\" onclick=\"convertToInteractive('df-f7f292f0-568b-457e-becc-3e27fe476e91')\"\n",
              "            title=\"Convert this dataframe to an interactive table.\"\n",
              "            style=\"display:none;\">\n",
              "\n",
              "  <svg xmlns=\"http://www.w3.org/2000/svg\" height=\"24px\" viewBox=\"0 -960 960 960\">\n",
              "    <path d=\"M120-120v-720h720v720H120Zm60-500h600v-160H180v160Zm220 220h160v-160H400v160Zm0 220h160v-160H400v160ZM180-400h160v-160H180v160Zm440 0h160v-160H620v160ZM180-180h160v-160H180v160Zm440 0h160v-160H620v160Z\"/>\n",
              "  </svg>\n",
              "    </button>\n",
              "\n",
              "  <style>\n",
              "    .colab-df-container {\n",
              "      display:flex;\n",
              "      gap: 12px;\n",
              "    }\n",
              "\n",
              "    .colab-df-convert {\n",
              "      background-color: #E8F0FE;\n",
              "      border: none;\n",
              "      border-radius: 50%;\n",
              "      cursor: pointer;\n",
              "      display: none;\n",
              "      fill: #1967D2;\n",
              "      height: 32px;\n",
              "      padding: 0 0 0 0;\n",
              "      width: 32px;\n",
              "    }\n",
              "\n",
              "    .colab-df-convert:hover {\n",
              "      background-color: #E2EBFA;\n",
              "      box-shadow: 0px 1px 2px rgba(60, 64, 67, 0.3), 0px 1px 3px 1px rgba(60, 64, 67, 0.15);\n",
              "      fill: #174EA6;\n",
              "    }\n",
              "\n",
              "    .colab-df-buttons div {\n",
              "      margin-bottom: 4px;\n",
              "    }\n",
              "\n",
              "    [theme=dark] .colab-df-convert {\n",
              "      background-color: #3B4455;\n",
              "      fill: #D2E3FC;\n",
              "    }\n",
              "\n",
              "    [theme=dark] .colab-df-convert:hover {\n",
              "      background-color: #434B5C;\n",
              "      box-shadow: 0px 1px 3px 1px rgba(0, 0, 0, 0.15);\n",
              "      filter: drop-shadow(0px 1px 2px rgba(0, 0, 0, 0.3));\n",
              "      fill: #FFFFFF;\n",
              "    }\n",
              "  </style>\n",
              "\n",
              "    <script>\n",
              "      const buttonEl =\n",
              "        document.querySelector('#df-f7f292f0-568b-457e-becc-3e27fe476e91 button.colab-df-convert');\n",
              "      buttonEl.style.display =\n",
              "        google.colab.kernel.accessAllowed ? 'block' : 'none';\n",
              "\n",
              "      async function convertToInteractive(key) {\n",
              "        const element = document.querySelector('#df-f7f292f0-568b-457e-becc-3e27fe476e91');\n",
              "        const dataTable =\n",
              "          await google.colab.kernel.invokeFunction('convertToInteractive',\n",
              "                                                    [key], {});\n",
              "        if (!dataTable) return;\n",
              "\n",
              "        const docLinkHtml = 'Like what you see? Visit the ' +\n",
              "          '<a target=\"_blank\" href=https://colab.research.google.com/notebooks/data_table.ipynb>data table notebook</a>'\n",
              "          + ' to learn more about interactive tables.';\n",
              "        element.innerHTML = '';\n",
              "        dataTable['output_type'] = 'display_data';\n",
              "        await google.colab.output.renderOutput(dataTable, element);\n",
              "        const docLink = document.createElement('div');\n",
              "        docLink.innerHTML = docLinkHtml;\n",
              "        element.appendChild(docLink);\n",
              "      }\n",
              "    </script>\n",
              "  </div>\n",
              "\n",
              "\n",
              "<div id=\"df-33e04611-702d-407a-9bc0-845d8a7874c2\">\n",
              "  <button class=\"colab-df-quickchart\" onclick=\"quickchart('df-33e04611-702d-407a-9bc0-845d8a7874c2')\"\n",
              "            title=\"Suggest charts.\"\n",
              "            style=\"display:none;\">\n",
              "\n",
              "<svg xmlns=\"http://www.w3.org/2000/svg\" height=\"24px\"viewBox=\"0 0 24 24\"\n",
              "     width=\"24px\">\n",
              "    <g>\n",
              "        <path d=\"M19 3H5c-1.1 0-2 .9-2 2v14c0 1.1.9 2 2 2h14c1.1 0 2-.9 2-2V5c0-1.1-.9-2-2-2zM9 17H7v-7h2v7zm4 0h-2V7h2v10zm4 0h-2v-4h2v4z\"/>\n",
              "    </g>\n",
              "</svg>\n",
              "  </button>\n",
              "\n",
              "<style>\n",
              "  .colab-df-quickchart {\n",
              "      --bg-color: #E8F0FE;\n",
              "      --fill-color: #1967D2;\n",
              "      --hover-bg-color: #E2EBFA;\n",
              "      --hover-fill-color: #174EA6;\n",
              "      --disabled-fill-color: #AAA;\n",
              "      --disabled-bg-color: #DDD;\n",
              "  }\n",
              "\n",
              "  [theme=dark] .colab-df-quickchart {\n",
              "      --bg-color: #3B4455;\n",
              "      --fill-color: #D2E3FC;\n",
              "      --hover-bg-color: #434B5C;\n",
              "      --hover-fill-color: #FFFFFF;\n",
              "      --disabled-bg-color: #3B4455;\n",
              "      --disabled-fill-color: #666;\n",
              "  }\n",
              "\n",
              "  .colab-df-quickchart {\n",
              "    background-color: var(--bg-color);\n",
              "    border: none;\n",
              "    border-radius: 50%;\n",
              "    cursor: pointer;\n",
              "    display: none;\n",
              "    fill: var(--fill-color);\n",
              "    height: 32px;\n",
              "    padding: 0;\n",
              "    width: 32px;\n",
              "  }\n",
              "\n",
              "  .colab-df-quickchart:hover {\n",
              "    background-color: var(--hover-bg-color);\n",
              "    box-shadow: 0 1px 2px rgba(60, 64, 67, 0.3), 0 1px 3px 1px rgba(60, 64, 67, 0.15);\n",
              "    fill: var(--button-hover-fill-color);\n",
              "  }\n",
              "\n",
              "  .colab-df-quickchart-complete:disabled,\n",
              "  .colab-df-quickchart-complete:disabled:hover {\n",
              "    background-color: var(--disabled-bg-color);\n",
              "    fill: var(--disabled-fill-color);\n",
              "    box-shadow: none;\n",
              "  }\n",
              "\n",
              "  .colab-df-spinner {\n",
              "    border: 2px solid var(--fill-color);\n",
              "    border-color: transparent;\n",
              "    border-bottom-color: var(--fill-color);\n",
              "    animation:\n",
              "      spin 1s steps(1) infinite;\n",
              "  }\n",
              "\n",
              "  @keyframes spin {\n",
              "    0% {\n",
              "      border-color: transparent;\n",
              "      border-bottom-color: var(--fill-color);\n",
              "      border-left-color: var(--fill-color);\n",
              "    }\n",
              "    20% {\n",
              "      border-color: transparent;\n",
              "      border-left-color: var(--fill-color);\n",
              "      border-top-color: var(--fill-color);\n",
              "    }\n",
              "    30% {\n",
              "      border-color: transparent;\n",
              "      border-left-color: var(--fill-color);\n",
              "      border-top-color: var(--fill-color);\n",
              "      border-right-color: var(--fill-color);\n",
              "    }\n",
              "    40% {\n",
              "      border-color: transparent;\n",
              "      border-right-color: var(--fill-color);\n",
              "      border-top-color: var(--fill-color);\n",
              "    }\n",
              "    60% {\n",
              "      border-color: transparent;\n",
              "      border-right-color: var(--fill-color);\n",
              "    }\n",
              "    80% {\n",
              "      border-color: transparent;\n",
              "      border-right-color: var(--fill-color);\n",
              "      border-bottom-color: var(--fill-color);\n",
              "    }\n",
              "    90% {\n",
              "      border-color: transparent;\n",
              "      border-bottom-color: var(--fill-color);\n",
              "    }\n",
              "  }\n",
              "</style>\n",
              "\n",
              "  <script>\n",
              "    async function quickchart(key) {\n",
              "      const quickchartButtonEl =\n",
              "        document.querySelector('#' + key + ' button');\n",
              "      quickchartButtonEl.disabled = true;  // To prevent multiple clicks.\n",
              "      quickchartButtonEl.classList.add('colab-df-spinner');\n",
              "      try {\n",
              "        const charts = await google.colab.kernel.invokeFunction(\n",
              "            'suggestCharts', [key], {});\n",
              "      } catch (error) {\n",
              "        console.error('Error during call to suggestCharts:', error);\n",
              "      }\n",
              "      quickchartButtonEl.classList.remove('colab-df-spinner');\n",
              "      quickchartButtonEl.classList.add('colab-df-quickchart-complete');\n",
              "    }\n",
              "    (() => {\n",
              "      let quickchartButtonEl =\n",
              "        document.querySelector('#df-33e04611-702d-407a-9bc0-845d8a7874c2 button');\n",
              "      quickchartButtonEl.style.display =\n",
              "        google.colab.kernel.accessAllowed ? 'block' : 'none';\n",
              "    })();\n",
              "  </script>\n",
              "</div>\n",
              "    </div>\n",
              "  </div>\n"
            ]
          },
          "metadata": {},
          "execution_count": 512
        }
      ],
      "source": [
        "sample_submission_df.head()"
      ]
    },
    {
      "cell_type": "code",
      "execution_count": 513,
      "id": "90f690fe-4222-41cf-9319-32f94213eb6f",
      "metadata": {
        "execution": {
          "iopub.execute_input": "2023-09-06T06:19:12.391651Z",
          "iopub.status.busy": "2023-09-06T06:19:12.391326Z",
          "iopub.status.idle": "2023-09-06T06:19:12.636773Z",
          "shell.execute_reply": "2023-09-06T06:19:12.635922Z",
          "shell.execute_reply.started": "2023-09-06T06:19:12.391628Z"
        },
        "tags": [],
        "id": "90f690fe-4222-41cf-9319-32f94213eb6f"
      },
      "outputs": [],
      "source": [
        "sample_submission_df.to_csv(\"my_submission.csv\", index=False)"
      ]
    },
    {
      "cell_type": "code",
      "source": [],
      "metadata": {
        "id": "-nKcwwRg8Lyw"
      },
      "id": "-nKcwwRg8Lyw",
      "execution_count": null,
      "outputs": []
    }
  ],
  "metadata": {
    "kernelspec": {
      "display_name": "max_kernel",
      "language": "python",
      "name": "max_kernel"
    },
    "language_info": {
      "codemirror_mode": {
        "name": "ipython",
        "version": 3
      },
      "file_extension": ".py",
      "mimetype": "text/x-python",
      "name": "python",
      "nbconvert_exporter": "python",
      "pygments_lexer": "ipython3",
      "version": "3.7.12"
    },
    "colab": {
      "provenance": [],
      "include_colab_link": true
    }
  },
  "nbformat": 4,
  "nbformat_minor": 5
}